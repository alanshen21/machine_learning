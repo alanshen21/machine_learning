{
  "nbformat": 4,
  "nbformat_minor": 0,
  "metadata": {
    "colab": {
      "name": "HW Week 2.ipynb",
      "provenance": [],
      "collapsed_sections": []
    },
    "kernelspec": {
      "name": "python3",
      "display_name": "Python 3"
    },
    "language_info": {
      "name": "python"
    }
  },
  "cells": [
    {
      "cell_type": "code",
      "metadata": {
        "id": "IapZvA05Cqu5",
        "colab": {
          "base_uri": "https://localhost:8080/",
          "height": 461
        },
        "outputId": "cd7b9b37-688c-46a0-faf3-29141152a306"
      },
      "source": [
        "import pandas as pd\n",
        "from matplotlib import pyplot as plt\n",
        "df = pd.read_csv(\"https://vincentarelbundock.github.io/Rdatasets/csv/datasets/mtcars.csv\")\n",
        "#Display first 5 rows of the data\n",
        "print(df.head())\n",
        "#Calculate the average of the mpg column for all cars within each category of the cyl column\n",
        "df.groupby('cyl')[['mpg']].mean()\n",
        "#Create a histogram using the mpg column\n",
        "df[['mpg']].hist()\n"
      ],
      "execution_count": 2,
      "outputs": [
        {
          "output_type": "stream",
          "name": "stdout",
          "text": [
            "          Unnamed: 0   mpg  cyl   disp   hp  ...   qsec  vs  am  gear  carb\n",
            "0          Mazda RX4  21.0    6  160.0  110  ...  16.46   0   1     4     4\n",
            "1      Mazda RX4 Wag  21.0    6  160.0  110  ...  17.02   0   1     4     4\n",
            "2         Datsun 710  22.8    4  108.0   93  ...  18.61   1   1     4     1\n",
            "3     Hornet 4 Drive  21.4    6  258.0  110  ...  19.44   1   0     3     1\n",
            "4  Hornet Sportabout  18.7    8  360.0  175  ...  17.02   0   0     3     2\n",
            "\n",
            "[5 rows x 12 columns]\n"
          ]
        },
        {
          "output_type": "execute_result",
          "data": {
            "text/plain": [
              "array([[<matplotlib.axes._subplots.AxesSubplot object at 0x7fa505bae610>]],\n",
              "      dtype=object)"
            ]
          },
          "metadata": {},
          "execution_count": 2
        },
        {
          "output_type": "display_data",
          "data": {
            "image/png": "[encoded data removed]",
            "text/plain": [
              "<Figure size 432x288 with 1 Axes>"
            ]
          },
          "metadata": {
            "needs_background": "light"
          }
        }
      ]
    },
    {
      "cell_type": "code",
      "metadata": {
        "colab": {
          "base_uri": "https://localhost:8080/",
          "height": 279
        },
        "id": "_bIn-WjZbLGp",
        "outputId": "69b9443f-eccd-4d96-dd65-6a51d2ec7ec9"
      },
      "source": [
        "#Choose two variables in the data and create a scatterplot\n",
        "plt.plot(df['mpg'], df['qsec'], color='green', marker='o', linestyle='none')\n",
        "plt.xlabel('Miles per gallon')\n",
        "plt.ylabel('Quarter mile time (seconds)')\n",
        "plt.show()"
      ],
      "execution_count": 3,
      "outputs": [
        {
          "output_type": "display_data",
          "data": {
            "image/png": "[encoded data removed]",
            "text/plain": [
              "<Figure size 432x288 with 1 Axes>"
            ]
          },
          "metadata": {
            "needs_background": "light"
          }
        }
      ]
    }
  ]
}