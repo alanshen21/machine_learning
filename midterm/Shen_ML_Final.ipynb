{
 "cells": [
  {
   "cell_type": "markdown",
   "id": "fda5a10d",
   "metadata": {},
   "source": [
    "## Machine Learning Final Exam"
   ]
  },
  {
   "cell_type": "markdown",
   "id": "288cac86",
   "metadata": {},
   "source": [
    "1.  From the perspective of a social scientist, which models did we learn this semester that are useful for ruling out alternative explanations through control variables AND that allow us to observe substantively meaningful information from model coefficients?"
   ]
  },
  {
   "cell_type": "markdown",
   "id": "a4f7b59c",
   "metadata": {},
   "source": [
    "Models that rely on control variables to rule out alternative explanations are usually regression models, which are used to determine relationships between a target variable and independent variables. They generate model coefficients which can be used to infer and measure the significance of certain correlations between variables. The models that make use of these methods most effectively are Linear Regression and Non-Penalty Logistic Regression."
   ]
  },
  {
   "cell_type": "markdown",
   "id": "4b072fc9",
   "metadata": {},
   "source": [
    "2. Describe the main differences between supervised and unsupervised learning."
   ]
  },
  {
   "cell_type": "markdown",
   "id": "3cde5f90",
   "metadata": {},
   "source": [
    "A supervised leaning algorithm learns from labeled training data, while unsupervised models deals with data that are not labeled. In supervised learning, we have some prior knowledge of what the output data should be, so the goal is to build a model that produces values that closely approximate the expected output values. Unsupervised learning algorithms are more capable of handling high-complexity models and perform more complex processing tasks compared to supervised learning."
   ]
  },
  {
   "cell_type": "markdown",
   "id": "27fc149c",
   "metadata": {},
   "source": [
    "3. Is supervised or unsupervised learning the primary approach that is used by machine learning practitioners?  For whatever approach you think is secondary, why would you use this approach (what's a good reason to use these kinds of models?)"
   ]
  },
  {
   "cell_type": "markdown",
   "id": "a10395a4",
   "metadata": {},
   "source": [
    "Supervised learning is the more commonly used appraoch in machine learning since it is generally faster and more widely applicable in classification and regression problems. Unsupervised learning is suitable for problems that involve clustering, dimensionality reduction, and feature selection. Also it is often easier to obtain unlabeled data, which could be computer generated, than labeled data, which often requires human intervention."
   ]
  },
  {
   "cell_type": "markdown",
   "id": "8e646754",
   "metadata": {},
   "source": [
    "4. Which unsupervised learning modeling approaches did we cover this semester?  What are the major differences between these techniques?"
   ]
  },
  {
   "cell_type": "markdown",
   "id": "3b314e7a",
   "metadata": {},
   "source": [
    "The unsupervised learning models we covered are Clustering, which includes K-Means Clustering and Hierarchical Clustering, Principal Components Analysis (PCA), and Manifold Multidimensional Learning. PCA is a form of dimensionality reduction as it aims to reduce a large number of observational variables to a smaller number while preserving variance and maintaining representativeness. Manifold is similar to PCA but it operates in a multidimensional space. Clustering splits the observations into homogenous subgroups based on relative distance between data points."
   ]
  },
  {
   "cell_type": "markdown",
   "id": "5fc90756",
   "metadata": {},
   "source": [
    "5.  What are the main benefits of using Principal Components Analysis?"
   ]
  },
  {
   "cell_type": "markdown",
   "id": "9866f4c0",
   "metadata": {},
   "source": [
    "The main advatange of using PCA is that it eliminates any correlated features that give little or no value to the decision making process. By reducing the number of features, PCA helps mitigate overfitting issues. PCA finds the combination of variables that result in maximum variance and thus improves data visualization."
   ]
  },
  {
   "cell_type": "markdown",
   "id": "fbdc3fee",
   "metadata": {},
   "source": [
    "6. Thinking about neural networks, what are three major differences between a deep multilayer perceptron network and a convolutional neural network model?  Be sure to define any key terms in your explanation."
   ]
  },
  {
   "cell_type": "markdown",
   "id": "4a19fd1b",
   "metadata": {},
   "source": [
    "One difference between multilayer perceptron network and convolutional neural network is that MLP takes vector as input whereas CNN takes tensor as input. Because of this CNN performs better than MLP when processing complex images. Second, the layers or nodes in an MLP network are fully connected while the layers in a CNN are only partially connected. Third, in a CNN, the number of parameters are reduced by sharing weights which improves its image processing efficiency and capability compared to MLP. "
   ]
  },
  {
   "cell_type": "markdown",
   "id": "bd4a21f6",
   "metadata": {},
   "source": [
    "7. Write the tf.keras code for a multilayer perceptron neural network with the following structure: Three hidden layers.  50 hidden units in the first hidden layer, 100 in the second, and 150 in the third.  Activate all hidden layers with relu.  The output layer should be built to classify to five categories.  Further, your optimization technique should be stochastic gradient descent.  (This code should simply build the architecture of the model and your approach to compile the model.  You will not run it on real data.)"
   ]
  },
  {
   "cell_type": "code",
   "execution_count": 2,
   "id": "3c0ef3a4",
   "metadata": {},
   "outputs": [
    {
     "name": "stdout",
     "output_type": "stream",
     "text": [
      "Model: \"sequential\"\n",
      "_________________________________________________________________\n",
      " Layer (type)                Output Shape              Param #   \n",
      "=================================================================\n",
      " dense (Dense)               (None, 50)                5050      \n",
      "                                                                 \n",
      " activation (Activation)     (None, 50)                0         \n",
      "                                                                 \n",
      " dense_1 (Dense)             (None, 100)               5100      \n",
      "                                                                 \n",
      " activation_1 (Activation)   (None, 100)               0         \n",
      "                                                                 \n",
      " dense_2 (Dense)             (None, 150)               15150     \n",
      "                                                                 \n",
      " activation_2 (Activation)   (None, 150)               0         \n",
      "                                                                 \n",
      " dense_3 (Dense)             (None, 5)                 755       \n",
      "                                                                 \n",
      " activation_3 (Activation)   (None, 5)                 0         \n",
      "                                                                 \n",
      "=================================================================\n",
      "Total params: 26,055\n",
      "Trainable params: 26,055\n",
      "Non-trainable params: 0\n",
      "_________________________________________________________________\n"
     ]
    }
   ],
   "source": [
    "from tensorflow.keras.models import Sequential\n",
    "from tensorflow.keras.layers import Dense, Activation\n",
    "\n",
    "model = Sequential([\n",
    "    Dense(50, input_shape=(100,)),\n",
    "    Activation('relu'),\n",
    "    Dense(100),\n",
    "    Activation('relu'),\n",
    "    Dense(150),\n",
    "    Activation('relu'),\n",
    "    Dense(5),\n",
    "    Activation('softmax'),\n",
    "])\n",
    "\n",
    "\n",
    "model.summary()\n",
    "model.compile(optimizer='sgd',\n",
    "              loss='categorical_crossentropy',\n",
    "              metrics=['accuracy'])"
   ]
  },
  {
   "cell_type": "markdown",
   "id": "06e7f04d",
   "metadata": {},
   "source": [
    "8. Write the tf.keras code for a multilayer perceptron neural network with the following structure: Two hidden layers.  75 hidden units in the first hidden layer and 150 in the second.  Activate all hidden layers with relu.  The output layer should be built to classify a binary dependent variable.  Further, your optimization technique should be stochastic gradient descent. (This code should simply build the architecture of the model and your approach to compile the model.  You will not run it on real data.)"
   ]
  },
  {
   "cell_type": "code",
   "execution_count": 3,
   "id": "198e2a89",
   "metadata": {},
   "outputs": [
    {
     "name": "stdout",
     "output_type": "stream",
     "text": [
      "Model: \"sequential_2\"\n",
      "_________________________________________________________________\n",
      " Layer (type)                Output Shape              Param #   \n",
      "=================================================================\n",
      " dense_9 (Dense)             (None, 75)                7575      \n",
      "                                                                 \n",
      " dense_10 (Dense)            (None, 150)               11400     \n",
      "                                                                 \n",
      " dense_11 (Dense)            (None, 1)                 151       \n",
      "                                                                 \n",
      "=================================================================\n",
      "Total params: 19,126\n",
      "Trainable params: 19,126\n",
      "Non-trainable params: 0\n",
      "_________________________________________________________________\n"
     ]
    }
   ],
   "source": [
    "model = Sequential()\n",
    "model.add(Dense(75, activation='relu', input_dim=100))\n",
    "model.add(Dense(150, activation='relu'))\n",
    "model.add(Dense(1, activation='sigmoid'))\n",
    "\n",
    "model.summary()\n",
    "model.compile(optimizer='sgd',\n",
    "              loss='binary_crossentropy',\n",
    "              metrics=['accuracy']) "
   ]
  },
  {
   "cell_type": "markdown",
   "id": "912c3013",
   "metadata": {},
   "source": [
    "9.  Write the tf.keras code for a convolutional neural network with the following structure: Two convolutional layers.  16 filters in the first layer and 28 in the second.  Activate all convolutional layers with relu.  Use max pooling after each convolutional layer with a 2 by 2 filter.  The output layer should be built to classify to ten categories.  Further, your optimization technique should be stochastic gradient descent.  (This code should simply build the architecture of the model and your approach to compile the model.  You will not run it on real data.)"
   ]
  },
  {
   "cell_type": "code",
   "execution_count": 3,
   "id": "7a564c10",
   "metadata": {},
   "outputs": [
    {
     "name": "stdout",
     "output_type": "stream",
     "text": [
      "Model: \"sequential_1\"\n",
      "_________________________________________________________________\n",
      " Layer (type)                Output Shape              Param #   \n",
      "=================================================================\n",
      " conv2d (Conv2D)             (None, 8, 8, 16)          592       \n",
      "                                                                 \n",
      " activation_4 (Activation)   (None, 8, 8, 16)          0         \n",
      "                                                                 \n",
      " max_pooling2d (MaxPooling2D  (None, 4, 4, 16)         0         \n",
      " )                                                               \n",
      "                                                                 \n",
      " conv2d_1 (Conv2D)           (None, 2, 2, 28)          4060      \n",
      "                                                                 \n",
      " activation_5 (Activation)   (None, 2, 2, 28)          0         \n",
      "                                                                 \n",
      " max_pooling2d_1 (MaxPooling  (None, 1, 1, 28)         0         \n",
      " 2D)                                                             \n",
      "                                                                 \n",
      " flatten (Flatten)           (None, 28)                0         \n",
      "                                                                 \n",
      " dense_4 (Dense)             (None, 10)                290       \n",
      "                                                                 \n",
      " activation_6 (Activation)   (None, 10)                0         \n",
      "                                                                 \n",
      "=================================================================\n",
      "Total params: 4,942\n",
      "Trainable params: 4,942\n",
      "Non-trainable params: 0\n",
      "_________________________________________________________________\n"
     ]
    }
   ],
   "source": [
    "import tensorflow.keras as keras\n",
    "from keras.layers.convolutional import Conv2D\n",
    "from keras.layers.pooling import MaxPooling2D\n",
    "from keras.layers.core import Dense, Activation, Flatten\n",
    "\n",
    "model = Sequential()\n",
    "model.add(Conv2D(16, (3, 3),\n",
    "                 padding='valid', input_shape=(10,10,4)))\n",
    "model.add(Activation('relu'))\n",
    "model.add(MaxPooling2D(pool_size=(2, 2)))\n",
    "\n",
    "model.add(Conv2D(28, (3, 3)))\n",
    "model.add(Activation('relu'))\n",
    "model.add(MaxPooling2D(pool_size=(2, 2)))\n",
    "  \n",
    "model.add(Flatten())\n",
    "model.add(Dense(10))\n",
    "model.add(Activation('softmax'))\n",
    "\n",
    "model.summary()\n",
    "model.compile(loss='categorical_crossentropy',\n",
    "              optimizer='sgd',\n",
    "              metrics=['accuracy'])"
   ]
  },
  {
   "cell_type": "markdown",
   "id": "f8358229",
   "metadata": {},
   "source": [
    "10.  Write the keras code for a convolutional neural network with the following structure: Two convolutional layers.  32 filters in the first layer and 32 in the second.  Activate all convolutional layers with relu.  Use max pooling after each convolutional layer with a 2 by 2 filter.  Add two fully connected layers with 128 hidden units in each layer and relu activations.  The output layer should be built to classify to six categories.  Further, your optimization technique should be stochastic gradient descent.  (This code should simply build the architecture of the model and your approach to compile the model.  You will not run it on real data.)"
   ]
  },
  {
   "cell_type": "code",
   "execution_count": 4,
   "id": "efeacea4",
   "metadata": {},
   "outputs": [
    {
     "name": "stdout",
     "output_type": "stream",
     "text": [
      "Model: \"sequential_2\"\n",
      "_________________________________________________________________\n",
      " Layer (type)                Output Shape              Param #   \n",
      "=================================================================\n",
      " conv2d_2 (Conv2D)           (None, 8, 8, 32)          1184      \n",
      "                                                                 \n",
      " activation_7 (Activation)   (None, 8, 8, 32)          0         \n",
      "                                                                 \n",
      " max_pooling2d_2 (MaxPooling  (None, 4, 4, 32)         0         \n",
      " 2D)                                                             \n",
      "                                                                 \n",
      " conv2d_3 (Conv2D)           (None, 2, 2, 32)          9248      \n",
      "                                                                 \n",
      " activation_8 (Activation)   (None, 2, 2, 32)          0         \n",
      "                                                                 \n",
      " max_pooling2d_3 (MaxPooling  (None, 1, 1, 32)         0         \n",
      " 2D)                                                             \n",
      "                                                                 \n",
      " flatten_1 (Flatten)         (None, 32)                0         \n",
      "                                                                 \n",
      " dense_5 (Dense)             (None, 128)               4224      \n",
      "                                                                 \n",
      " activation_9 (Activation)   (None, 128)               0         \n",
      "                                                                 \n",
      " dense_6 (Dense)             (None, 128)               16512     \n",
      "                                                                 \n",
      " activation_10 (Activation)  (None, 128)               0         \n",
      "                                                                 \n",
      " dense_7 (Dense)             (None, 6)                 774       \n",
      "                                                                 \n",
      " activation_11 (Activation)  (None, 6)                 0         \n",
      "                                                                 \n",
      "=================================================================\n",
      "Total params: 31,942\n",
      "Trainable params: 31,942\n",
      "Non-trainable params: 0\n",
      "_________________________________________________________________\n"
     ]
    }
   ],
   "source": [
    "model = Sequential()\n",
    "model.add(Conv2D(32, (3, 3),\n",
    "                 padding='valid', input_shape=(10,10,4)))\n",
    "model.add(Activation('relu'))\n",
    "model.add(MaxPooling2D(pool_size=(2, 2)))\n",
    "\n",
    "model.add(Conv2D(32, (3, 3)))\n",
    "model.add(Activation('relu'))\n",
    "model.add(MaxPooling2D(pool_size=(2, 2)))\n",
    "  \n",
    "model.add(Flatten())\n",
    "model.add(Dense(128))\n",
    "model.add(Activation('relu'))\n",
    "model.add(Dense(128))\n",
    "model.add(Activation('relu'))\n",
    "model.add(Dense(6))\n",
    "model.add(Activation('softmax'))\n",
    "\n",
    "model.summary()\n",
    "model.compile(loss='categorical_crossentropy',\n",
    "              optimizer='sgd',\n",
    "              metrics=['accuracy'])"
   ]
  }
 ],
 "metadata": {
  "kernelspec": {
   "display_name": "Python 3 (ipykernel)",
   "language": "python",
   "name": "python3"
  },
  "language_info": {
   "codemirror_mode": {
    "name": "ipython",
    "version": 3
   },
   "file_extension": ".py",
   "mimetype": "text/x-python",
   "name": "python",
   "nbconvert_exporter": "python",
   "pygments_lexer": "ipython3",
   "version": "3.9.7"
  }
 },
 "nbformat": 4,
 "nbformat_minor": 5
}
